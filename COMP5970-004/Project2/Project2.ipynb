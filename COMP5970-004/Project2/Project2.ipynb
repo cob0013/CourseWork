{
 "cells": [
  {
   "cell_type": "code",
   "execution_count": 353,
   "id": "3826a5c3",
   "metadata": {},
   "outputs": [],
   "source": [
    "from Bio.Seq import Seq\n",
    "import vcf"
   ]
  },
  {
   "cell_type": "code",
   "execution_count": 354,
   "id": "c100a5c1",
   "metadata": {},
   "outputs": [],
   "source": [
    "with open('SARS-COV2.fasta') as f:\n",
    "    file = f.read().replace('\\n', '')\n",
    "    \n",
    "\n",
    "reference = file[2:]\n",
    "spike_protein = reference[21562 : 25384]\n",
    "amino_acid_seq_of_spike_protein = Seq(spike_protein)\n",
    "amino_acid_seq_of_spike_protein = amino_acid_seq_of_spike_protein.translate()\n",
    "with open('amino_acid_sequence_of_spike_protein.txt', 'w') as f:\n",
    "    f.write(str(amino_acid_seq_of_spike_protein))"
   ]
  },
  {
   "cell_type": "code",
   "execution_count": 355,
   "id": "3a5bce68",
   "metadata": {},
   "outputs": [],
   "source": [
    "vcf_reader = vcf.Reader(open('var.vcf'))\n",
    "variants = []\n",
    "for record in vcf_reader:\n",
    "    if record.POS >= 21562 and record.POS < 25384:\n",
    "        variants.append((record.POS - 21562 , record.REF, record.ALT))\n",
    "        \n",
    "with open('variants.txt', 'w') as f:\n",
    "    for var in variants:\n",
    "        f.write(f'Position: {var[0]} Reference: {var[1]} Alt: {var[2][0]}\\n')\n",
    "                                                                 "
   ]
  },
  {
   "cell_type": "code",
   "execution_count": 356,
   "id": "bf4e38c7",
   "metadata": {},
   "outputs": [],
   "source": [
    "functional = {\"D\":\"acidic\", \"E\": \"acidic\", \"G\": \"polar\",\n",
    "\"F\":\"nonpolar\", \"L\": \"nonpolar\", \"S\": \"polar\", \"Y\": \"polar\",\n",
    "\"C\": \"polar\", \"W\":\"nonpolar\", \"L\":\"nonpolar\", \"P\": \"nonpolar\",\n",
    "\"H\": \"basic\", \"Q\":\"polar\", \"R\": \"basic\", \"I\":\"nonpolar\",\n",
    "\"M\": \"nonpolar\", \"T\": \"polar\", \"N\": \"polar\", \"K\":\"basic\",\n",
    "\"S\":\"polar\", \"R\":\"basic\", \"V\":\"nonpolar\",\"A\":\"nonpolar\"}"
   ]
  },
  {
   "cell_type": "code",
   "execution_count": 357,
   "id": "5bf7e489",
   "metadata": {},
   "outputs": [],
   "source": [
    "mutation_output = []\n",
    "variant_sequences = []\n",
    "\n",
    "for i, var in enumerate(variants):\n",
    "    pos, ref, alt = var\n",
    "    mutation = list(reference[21562 : 25385])\n",
    "    mutation[pos: pos + len(ref)] = list(str(alt[0]))\n",
    "    mutation = ''.join(mutation)\n",
    "    variant_sequences.append(mutation)\n",
    "    amino_acid_mutation = Seq(mutation)\n",
    "    amino_acid_mutation = amino_acid_mutation.translate()\n",
    "    \n",
    "    for j in range(min(len(amino_acid_mutation), len(amino_acid_seq_of_spike_protein))):\n",
    "        if amino_acid_mutation[j] != amino_acid_seq_of_spike_protein[j]:\n",
    "            if amino_acid_mutation[j] == '*':\n",
    "                mutation_output.append('non-sense\\n')\n",
    "            else:\n",
    "                mutation_output.append(str((f'non-synonomous: {functional[amino_acid_mutation[j]]} -> {functional[amino_acid_seq_of_spike_protein[j]]}\\n')))\n",
    "            break\n",
    "    else:\n",
    "        mutation_output.append('synonomous\\n')\n",
    "        \n",
    "    \n",
    "with open('variant_sequences.txt', 'w') as f:\n",
    "    for var in variant_sequences:\n",
    "        f.write(var + '\\n')\n",
    "with open('mutation_analysis.txt', 'w') as f:\n",
    "    for m in mutation_output:\n",
    "        f.write(m)\n",
    "                                                                 \n",
    "    \n",
    "    "
   ]
  }
 ],
 "metadata": {
  "kernelspec": {
   "display_name": "konda_kernel",
   "language": "python",
   "name": "konda_kernel"
  },
  "language_info": {
   "codemirror_mode": {
    "name": "ipython",
    "version": 3
   },
   "file_extension": ".py",
   "mimetype": "text/x-python",
   "name": "python",
   "nbconvert_exporter": "python",
   "pygments_lexer": "ipython3",
   "version": "3.9.7"
  }
 },
 "nbformat": 4,
 "nbformat_minor": 5
}

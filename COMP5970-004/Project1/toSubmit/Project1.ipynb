{
 "cells": [
  {
   "cell_type": "code",
   "execution_count": 124,
   "id": "44c72502",
   "metadata": {},
   "outputs": [
    {
     "data": {
      "text/plain": [
       "{'Seq_1': 0, 'Seq_2': 1, 'Seq_3': 2, 'Seq_4': 3, 'Seq_5': 4, 'Seq_6': 5}"
      ]
     },
     "execution_count": 124,
     "metadata": {},
     "output_type": "execute_result"
    }
   ],
   "source": [
    "import numpy as np\n",
    "import pandas as pd\n",
    "import graphviz\n",
    "import heapq\n",
    "# get sequences from input key = sequence name, val = sequence\n",
    "# matrix mapping maps sequence name to index used in distance matrix\n",
    "# indexesToNames\n",
    "indexes_to_names = dict()\n",
    "names_to_sequences = dict() \n",
    "names_to_indexes = dict()\n",
    "with open('msa.pir') as f:\n",
    "    file = f.readlines()\n",
    "    for i in range(0, len(file) - 1, 2):\n",
    "        names_to_sequences[file[i][1:].strip()] = file[i + 1].strip()\n",
    "        indexes_to_names[len(indexes_to_names)] = file[i][1:].strip()\n",
    "        names_to_indexes[file[i][1:].strip()] = len(indexes_to_names) - 1\n",
    "        \n",
    "names_to_indexes\n",
    "\n",
    "        "
   ]
  },
  {
   "cell_type": "code",
   "execution_count": 125,
   "id": "e96c9da5",
   "metadata": {},
   "outputs": [],
   "source": [
    "# used for calculating allignment distance between 2 sequences\n",
    "def hamming_distance(s1, s2):\n",
    "    distance = 0\n",
    "    for i in range(len(s1)):\n",
    "        if s1[i] != s2[i]:\n",
    "            distance += 1\n",
    "    return distance"
   ]
  },
  {
   "cell_type": "code",
   "execution_count": 126,
   "id": "5595be26",
   "metadata": {},
   "outputs": [
    {
     "name": "stdout",
     "output_type": "stream",
     "text": [
      "[[  0. 127. 245. 310. 405. 411.]\n",
      " [127.   0. 226. 291. 385. 398.]\n",
      " [245. 226.   0. 287. 386. 385.]\n",
      " [310. 291. 287.   0. 211. 214.]\n",
      " [405. 385. 386. 211.   0. 157.]\n",
      " [411. 398. 385. 214. 157.   0.]]\n"
     ]
    }
   ],
   "source": [
    "# build inital distance matrix\n",
    "sequences = list(names_to_sequences.values())\n",
    "initial_distance_matrix = np.zeros([len(sequences), len(sequences)])\n",
    "for i in range(len(sequences)):\n",
    "    for j in range(i + 1, len(sequences)):\n",
    "        distance = hamming_distance(sequences[i], sequences[j])\n",
    "        initial_distance_matrix[i, j], initial_distance_matrix[j, i] = distance, distance\n",
    "print(initial_distance_matrix)"
   ]
  },
  {
   "cell_type": "code",
   "execution_count": 127,
   "id": "286e1856",
   "metadata": {},
   "outputs": [],
   "source": [
    "def calc_d_star(D):\n",
    "    total_distance = dict()\n",
    "    for i in range(len(D)):\n",
    "        total_distance[i] = sum(D[i])\n",
    "    d_star = np.zeros_like(D)   \n",
    "    d_starij = lambda i, j : (len(D) - 2) * D[i][j] - total_distance[i] - total_distance[j]\n",
    "    for i in range(len(D)):\n",
    "        for j in range(i + 1, len(D)):\n",
    "            d_star[i, j] = d_starij(i, j)\n",
    "            d_star[j, i] = d_starij(i,j)\n",
    "    return d_star\n",
    "     \n",
    "    "
   ]
  },
  {
   "cell_type": "code",
   "execution_count": 128,
   "id": "777f0d38",
   "metadata": {},
   "outputs": [],
   "source": [
    "\n",
    "def neighbor_joining(D):\n",
    "#     no work to be done\n",
    "    DF = pd.DataFrame(D)\n",
    "    internal_nodes = 0\n",
    "    shape = D.shape\n",
    "    tree = dict()\n",
    "    nodes = dict()\n",
    "    orig_idx = DF.index.tolist()\n",
    "    \n",
    "    for _ in range(shape[0] - 2):\n",
    "        D = DF.values\n",
    "        n = len(D)\n",
    "        \n",
    "#         get d_star\n",
    "        d_star = calc_d_star(D)\n",
    "    \n",
    "#     find min val and min index\n",
    "        min_val = np.min(d_star[np.nonzero(d_star)])\n",
    "        row, col = np.where(d_star == min_val)\n",
    "        idx = [row[0], col[0]]\n",
    "        min_i, min_j = min(idx), max(idx)\n",
    "        i_idx = DF.iloc[min_i,:].name\n",
    "        j_idx = DF.iloc[min_j,:].name\n",
    "        \n",
    "        idx_updated = np.arange(n)\n",
    "        idx_updated = np.delete(idx_updated, [min_i, min_j])\n",
    "    \n",
    "    \n",
    "        delta_i_j = (sum(d_star[min_i]) - sum(d_star[min_j])) / (n - 2)\n",
    "        limb_length_i = (D[min_i, min_j] + delta_i_j) / 2\n",
    "        limb_length_j = (D[min_i, min_j] - delta_i_j) / 2\n",
    "    \n",
    "    \n",
    "#     get d_prime\n",
    "        d_prime = np.zeros(np.array(D.shape) + 1)\n",
    "        # Replace 0's with known distance\n",
    "        d_prime[0:D.shape[0], 0:D.shape[1]] = D\n",
    "    \n",
    "    \n",
    "        for k in range(len(D)):\n",
    "            d_prime[k, -1] = (D[k, min_i] + D[k, min_j]) / 2\n",
    "            d_prime[-1, k] = d_prime[k, -1]\n",
    "        m = max(DF.index.tolist()) + 1\n",
    "        if m not in indexes_to_names:\n",
    "            indexes_to_names[m] = f'InternalNode{internal_nodes}'\n",
    "            names_to_indexes[f'InternalNode{internal_nodes}'] = m\n",
    "            internal_nodes += 1\n",
    "        new_idx = DF.index.tolist() + [m]\n",
    "        DF = pd.DataFrame(d_prime, index=new_idx, columns=new_idx)\n",
    "        DF.drop(index=[i_idx, j_idx], inplace=True)\n",
    "        DF.drop(columns=[i_idx, j_idx], inplace=True)\n",
    "        nodes[m] = D[min_i, min_j]\n",
    "        \n",
    "        if i_idx not in orig_idx:\n",
    "            limb_length_i = limb_length_i - nodes[i_idx] / 2\n",
    "        if j_idx not in orig_idx:\n",
    "            limb_length_j = limb_length_j - nodes[j_idx] / 2\n",
    "        tree[indexes_to_names[i_idx] + '-' + indexes_to_names[m]] = limb_length_i\n",
    "        tree[indexes_to_names[j_idx] + '-' + indexes_to_names[m]] = limb_length_j\n",
    "        \n",
    "    final_idx = DF.index.tolist()\n",
    "    final_c = min([nodes[x] for x in final_idx])\n",
    "    final_dist = (1/ 2) * DF.iloc[1, 0] - final_c / 2\n",
    "    tree[indexes_to_names[final_idx[0]] + '-' + indexes_to_names[final_idx[1]]] = final_dist\n",
    "    \n",
    "    return tree\n",
    "    \n",
    "\n",
    "            \n",
    "    \n"
   ]
  },
  {
   "cell_type": "code",
   "execution_count": 129,
   "id": "774cc08e",
   "metadata": {},
   "outputs": [],
   "source": [
    "# set up adjacency list in order to perform dijsktras to get new distance matrix\n",
    "\n",
    "tree = neighbor_joining(initial_distance_matrix)\n",
    "adjacencyList = [[] for i in range(len(indexes_to_names))]\n",
    "for edge, weight in tree.items():\n",
    "    u, v = edge.split('-')\n",
    "    adjacencyList[names_to_indexes[u]].append((names_to_indexes[v], weight))\n",
    "    adjacencyList[names_to_indexes[v]].append((names_to_indexes[u], weight))"
   ]
  },
  {
   "cell_type": "code",
   "execution_count": 130,
   "id": "79b09a41",
   "metadata": {},
   "outputs": [],
   "source": [
    "# vanilla dijkstras\n",
    "def dijkstras(graph, src , destination):\n",
    "    pq = [(0, src)]\n",
    "    visited = set()\n",
    "    visited.add(src)\n",
    "    while pq:\n",
    "        distance, curr = heapq.heappop(pq)\n",
    "        visited.add(curr)\n",
    "        if curr == destination:\n",
    "            return distance\n",
    "        for neighbor, edge in graph[curr]:\n",
    "            if neighbor not in visited:\n",
    "                heapq.heappush(pq, (distance + edge, neighbor))  "
   ]
  },
  {
   "cell_type": "code",
   "execution_count": 131,
   "id": "cc79178f",
   "metadata": {},
   "outputs": [
    {
     "name": "stdout",
     "output_type": "stream",
     "text": [
      "[[0, 127.0, 314.53125, 314.53125, 314.53125, 314.53125, 236.03125, 208.28125, 63.5, 146.40625], [127.0, 0, 314.53125, 314.53125, 314.53125, 314.53125, 236.03125, 208.28125, 63.5, 146.40625], [314.53125, 314.53125, 0, 336.25, 336.25, 336.25, 257.75, 230.0, 251.03125, 168.125], [314.53125, 314.53125, 336.25, 0, 212.5, 212.5, 134.0, 106.25, 251.03125, 168.125], [314.53125, 314.53125, 336.25, 212.5, 0, 157.0, 78.5, 106.25, 251.03125, 168.125], [314.53125, 314.53125, 336.25, 212.5, 157.0, 0, 78.5, 106.25, 251.03125, 168.125], [236.03125, 236.03125, 257.75, 134.0, 78.5, 78.5, 0, 27.75, 172.53125, 89.625], [208.28125, 208.28125, 230.0, 106.25, 106.25, 106.25, 27.75, 0, 144.78125, 61.875], [63.5, 63.5, 251.03125, 251.03125, 251.03125, 251.03125, 172.53125, 144.78125, 0, 82.90625], [146.40625, 146.40625, 168.125, 168.125, 168.125, 168.125, 89.625, 61.875, 82.90625, 0]]\n"
     ]
    }
   ],
   "source": [
    "# build new distance matrix with internal nodes\n",
    "new_distance_matrix = [[0 for i in range(len(names_to_indexes))] for i in range(len(names_to_indexes))]\n",
    "for i in range(len(indexes_to_names)):\n",
    "    for j in range(i + 1, len(indexes_to_names)):\n",
    "        shortest_path = dijkstras(adjacencyList, i, j)\n",
    "        new_distance_matrix[i][j] = shortest_path\n",
    "        new_distance_matrix[j][i] = shortest_path\n",
    "print(new_distance_matrix)"
   ]
  },
  {
   "cell_type": "code",
   "execution_count": 132,
   "id": "73323120",
   "metadata": {
    "scrolled": true
   },
   "outputs": [],
   "source": [
    "with open('graph.DOT', 'w') as f:\n",
    "    f.write('graph {\\n')\n",
    "    for edge, weight in tree.items():\n",
    "        f.write(f'\\t{edge} [weight = {weight}]\\n')\n",
    "    f.write('}')"
   ]
  },
  {
   "cell_type": "code",
   "execution_count": 133,
   "id": "cdfd11c1",
   "metadata": {},
   "outputs": [
    {
     "data": {
      "text/plain": [
       "'graph.DOT.pdf'"
      ]
     },
     "execution_count": 133,
     "metadata": {},
     "output_type": "execute_result"
    }
   ],
   "source": [
    "dot = graphviz.Graph(comment='Tree')\n",
    "for edge, weight in tree.items():\n",
    "    u, v = edge.split('-')\n",
    "    dot.edge(u, v, label=str(weight), weight=str(weight))\n",
    "dot.render(filename='graph.DOT').replace('\\\\', '/')"
   ]
  },
  {
   "cell_type": "code",
   "execution_count": 134,
   "id": "717dfc2c",
   "metadata": {},
   "outputs": [],
   "source": [
    "with open('initial_distance_matrix', 'w') as f:\n",
    "    for row in initial_distance_matrix:\n",
    "        f.write(str(row) + '\\n')\n",
    "with open('new_distance_matrix', 'w') as f:\n",
    "    for row in new_distance_matrix:\n",
    "        f.write(str(row) + '\\n')"
   ]
  }
 ],
 "metadata": {
  "kernelspec": {
   "display_name": "Python 3 (ipykernel)",
   "language": "python",
   "name": "python3"
  },
  "language_info": {
   "codemirror_mode": {
    "name": "ipython",
    "version": 3
   },
   "file_extension": ".py",
   "mimetype": "text/x-python",
   "name": "python",
   "nbconvert_exporter": "python",
   "pygments_lexer": "ipython3",
   "version": "3.9.6"
  }
 },
 "nbformat": 4,
 "nbformat_minor": 5
}

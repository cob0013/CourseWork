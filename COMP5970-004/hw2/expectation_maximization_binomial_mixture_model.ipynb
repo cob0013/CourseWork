{
 "cells": [
  {
   "cell_type": "code",
   "execution_count": 2,
   "id": "287ee3eb",
   "metadata": {},
   "outputs": [],
   "source": [
    "import numpy as np\n",
    "import pandas as pd\n",
    "import scipy\n",
    "from plotnine import *"
   ]
  },
  {
   "cell_type": "code",
   "execution_count": 11,
   "id": "2e2b6b9a",
   "metadata": {},
   "outputs": [
    {
     "name": "stdout",
     "output_type": "stream",
     "text": [
      "2000\n"
     ]
    },
    {
     "data": {
      "image/png": "[encoded data removed]",
      "text/plain": [
       "<Figure size 640x480 with 1 Axes>"
      ]
     },
     "metadata": {},
     "output_type": "display_data"
    },
    {
     "data": {
      "text/plain": [
       "<ggplot: (8770873185109)>"
      ]
     },
     "execution_count": 11,
     "metadata": {},
     "output_type": "execute_result"
    }
   ],
   "source": [
    "samples = 2000\n",
    "\n",
    "ns1 = np.random.poisson(20,samples)\n",
    "ns2 = np.random.poisson(20,samples)\n",
    "ns3 = np.random.poisson(20,samples)\n",
    "\n",
    "k1 = np.random.binomial(ns1, 0.5, samples)\n",
    "k2 = np.random.binomial(ns2, 0.1, samples)\n",
    "k3 = np.random.binomial(ns3, 0.9, samples)\n",
    "\n",
    "ns = []\n",
    "ns.extend(ns1)\n",
    "ns.extend(ns2)\n",
    "ns.extend(ns3)\n",
    "ks = []\n",
    "ks.extend(k1)\n",
    "ks.extend(k2)\n",
    "ks.extend(k3)\n",
    "p = np.asarray(ks) / np.asarray(ns)\n",
    "dataframe = pd.DataFrame(data={'n':ns, 'k':ks, 'p':p})\n",
    "\n",
    "ggplot(dataframe)+geom_histogram(aes(x='p'),color=\"white\",bins = 30)\n"
   ]
  },
  {
   "cell_type": "code",
   "execution_count": 4,
   "id": "f8ae70e1",
   "metadata": {},
   "outputs": [
    {
     "data": {
      "text/plain": [
       "6000"
      ]
     },
     "execution_count": 4,
     "metadata": {},
     "output_type": "execute_result"
    }
   ],
   "source": [
    "len(dataframe)"
   ]
  },
  {
   "cell_type": "code",
   "execution_count": 5,
   "id": "3530c936",
   "metadata": {},
   "outputs": [
    {
     "data": {
      "text/plain": [
       "array([0.27073082, 0.6596821 , 0.94587595])"
      ]
     },
     "execution_count": 5,
     "metadata": {},
     "output_type": "execute_result"
    }
   ],
   "source": [
    "ps = np.random.uniform(size=3)\n",
    "ps"
   ]
  },
  {
   "cell_type": "code",
   "execution_count": 6,
   "id": "19d29b06",
   "metadata": {},
   "outputs": [
    {
     "data": {
      "text/plain": [
       "[-1.0986122886681098, -1.0986122886681098, -1.0986122886681098]"
      ]
     },
     "execution_count": 6,
     "metadata": {},
     "output_type": "execute_result"
    }
   ],
   "source": [
    "log_priors = [np.log(1/3)]*3\n",
    "log_priors"
   ]
  },
  {
   "cell_type": "code",
   "execution_count": 7,
   "id": "c4ffca75",
   "metadata": {},
   "outputs": [],
   "source": [
    "def expectation(data, ps):\n",
    "    all_posteriors = []\n",
    "    for i in range(len(data)):\n",
    "        posteriors = calc_posteriors(data['n'][i], data['k'][i], ps, log_priors)\n",
    "        all_posteriors.append(posteriors)\n",
    "    return all_posteriors"
   ]
  },
  {
   "cell_type": "code",
   "execution_count": 8,
   "id": "af11f14a",
   "metadata": {},
   "outputs": [],
   "source": [
    "def calc_posteriors(n,k,ps,log_priors):\n",
    "    log_likelihoods = scipy.stats.binom.logpmf(k,n,ps)\n",
    "    log_posteriors = []\n",
    "    log_marginal_likelihoods = log_likelihoods + log_priors\n",
    "    for (i, log_likelihood) in enumerate(log_likelihoods):\n",
    "        log_posteriors.append(log_likelihood + log_priors[i] - \n",
    "            scipy.special.logsumexp(log_marginal_likelihoods))\n",
    "    return np.exp(log_posteriors)\n",
    "        "
   ]
  },
  {
   "cell_type": "code",
   "execution_count": 9,
   "id": "138e4f8d",
   "metadata": {},
   "outputs": [],
   "source": [
    "def maximization(all_posteriors, data, ps):\n",
    "    k_primes = [0]*3\n",
    "    n_primes = [0]*3\n",
    "    for i in range(len(all_posteriors)):\n",
    "        for (j, posterior) in enumerate(all_posteriors[i]):\n",
    "            k_primes[j] += posterior * data['k'][i]\n",
    "            n_primes[j] += posterior * data['n'][i]\n",
    "            \n",
    "    p_primes = [k_primes[i]/n_primes[i] for i in range(3)]\n",
    "    return p_primes\n",
    "        "
   ]
  },
  {
   "cell_type": "code",
   "execution_count": 18,
   "id": "0dac330c",
   "metadata": {},
   "outputs": [
    {
     "data": {
      "image/png": "[encoded data removed]",
      "text/plain": [
       "<Figure size 640x480 with 1 Axes>"
      ]
     },
     "metadata": {},
     "output_type": "display_data"
    },
    {
     "data": {
      "text/plain": [
       "<ggplot: (8771105908758)>"
      ]
     },
     "execution_count": 18,
     "metadata": {},
     "output_type": "execute_result"
    }
   ],
   "source": [
    "p_data = pd.DataFrame(data={'p':ps,'y':[0]*3})\n",
    "(ggplot(dataframe)+geom_histogram(aes(x='p'),color=\"white\",bins = 30)+\n",
    "  geom_point(aes(x='p',y='y'), data = p_data ,color=\"red\", size = 10))"
   ]
  },
  {
   "cell_type": "code",
   "execution_count": 17,
   "id": "c8807443",
   "metadata": {},
   "outputs": [],
   "source": [
    "all_posteriors = expectation(dataframe, ps)\n",
    "ps = maximization(all_posteriors, dataframe, ps)"
   ]
  },
  {
   "cell_type": "code",
   "execution_count": null,
   "id": "74b5a5e0",
   "metadata": {},
   "outputs": [],
   "source": []
  }
 ],
 "metadata": {
  "kernelspec": {
   "display_name": "Python 3 (ipykernel)",
   "language": "python",
   "name": "python3"
  },
  "language_info": {
   "codemirror_mode": {
    "name": "ipython",
    "version": 3
   },
   "file_extension": ".py",
   "mimetype": "text/x-python",
   "name": "python",
   "nbconvert_exporter": "python",
   "pygments_lexer": "ipython3",
   "version": "3.9.6"
  }
 },
 "nbformat": 4,
 "nbformat_minor": 5
}
